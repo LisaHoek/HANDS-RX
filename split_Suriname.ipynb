{
 "cells": [
  {
   "cell_type": "code",
   "execution_count": 4,
   "metadata": {},
   "outputs": [],
   "source": [
    "import os, random, shutil"
   ]
  },
  {
   "cell_type": "code",
   "execution_count": 70,
   "metadata": {},
   "outputs": [],
   "source": [
    "# change the working directory to the path where the images are located\n",
    "path = r\"G:\\My Drive\\Overlijdensdata Suriname\"\n",
    "os.chdir(path)\n",
    "\n",
    "# this list holds all the image filename\n",
    "certificates = []\n",
    "onePage = []\n",
    "\n",
    "# creates a ScandirIterator aliased as files\n",
    "for folder in os.listdir(path):\n",
    "  if \"one_page\" in folder:\n",
    "    with os.scandir(os.path.join(path,folder)) as files:\n",
    "    # loops through each file in the directories\n",
    "      for file in files:\n",
    "          if file.name.endswith('.JPG') or file.name.endswith('.jpg'):\n",
    "              onePage.append(file.name)\n",
    "  elif \"thumbnails\" not in folder:\n",
    "    with os.scandir(os.path.join(path,folder)) as files:\n",
    "    # loops through each file in the directories\n",
    "        for file in files:\n",
    "            if file.name.endswith('.JPG') or file.name.endswith('.jpg'):\n",
    "                certificates.append(folder+\"/\"+file.name)"
   ]
  },
  {
   "cell_type": "code",
   "execution_count": 71,
   "metadata": {},
   "outputs": [
    {
     "data": {
      "text/plain": [
       "'1237/NL-HaNA_2.10.61_1237_0003.jpg'"
      ]
     },
     "execution_count": 71,
     "metadata": {},
     "output_type": "execute_result"
    }
   ],
   "source": [
    "certificates[0]"
   ]
  },
  {
   "cell_type": "code",
   "execution_count": null,
   "metadata": {},
   "outputs": [],
   "source": [
    "random.seed(572)\n",
    "sample = random.sample(certificates, 500)"
   ]
  },
  {
   "cell_type": "code",
   "execution_count": 62,
   "metadata": {},
   "outputs": [
    {
     "data": {
      "text/plain": [
       "'G:\\\\My Drive\\\\Suriname\\\\sample_2\\\\NL-HaNA_2.10.61_1201_0155.jpg'"
      ]
     },
     "execution_count": 62,
     "metadata": {},
     "output_type": "execute_result"
    }
   ],
   "source": [
    "os.path.join(path,sample[0])\n",
    "os.path.join(\"G:\\\\My Drive\\\\Suriname\\\\sample\",sample[0].split(\"/\")[1])"
   ]
  },
  {
   "cell_type": "code",
   "execution_count": 75,
   "metadata": {},
   "outputs": [],
   "source": [
    "for cert in sample:\n",
    "    shutil.copyfile(os.path.join(path,cert), os.path.join(\"G:\\\\My Drive\\\\Suriname\\\\sample\",cert.split(\"/\")[1]))"
   ]
  },
  {
   "cell_type": "markdown",
   "metadata": {},
   "source": [
    "### Make split in scans"
   ]
  },
  {
   "cell_type": "code",
   "execution_count": 76,
   "metadata": {},
   "outputs": [],
   "source": [
    "path = r\"G:\\\\My Drive\\\\Suriname\\\\sample\"\n",
    "# change the working directory to the path where the images are located\n",
    "os.chdir(path)\n",
    "\n",
    "# this list holds all the image filename\n",
    "certificates = []\n",
    "\n",
    "# creates a ScandirIterator aliased as files\n",
    "with os.scandir(os.path.join(path)) as files:\n",
    "# loops through each file in the directories\n",
    "    for file in files:\n",
    "        if file.name.endswith('.JPG') or file.name.endswith('.jpg'):\n",
    "            certificates.append(file.name)"
   ]
  },
  {
   "cell_type": "code",
   "execution_count": 56,
   "metadata": {},
   "outputs": [],
   "source": [
    "import cv2\n",
    "\n",
    "def split_in_two(path,cert):\n",
    "    image = cv2.imread(cert)\n",
    "    height, width, channels = image.shape\n",
    "    left_image = image[:, :width//2+200]\n",
    "    right_image = image[:, width//2-200:]\n",
    "    cv2.imwrite(path+cert[:-4]+\"_1\"+cert[-4:], left_image)\n",
    "    cv2.imwrite(path+cert[:-4]+\"_2\"+cert[-4:], right_image)\n",
    "\n",
    "def split_in_four(path,cert):\n",
    "    image = cv2.imread(cert)\n",
    "    height, width, channels = image.shape\n",
    "    left_top = image[:height//2+200, :width//2+200]\n",
    "    left_bottom = image[height//2-200:, :width//2+200]\n",
    "    right_top = image[:height//2+200, width//2-200:]\n",
    "    rigth_bottom = image[height//2-200:, width//2-200:]\n",
    "    cv2.imwrite(path+cert[:-4]+\"_1\"+cert[-4:], left_top)\n",
    "    cv2.imwrite(path+cert[:-4]+\"_2\"+cert[-4:], left_bottom)\n",
    "    cv2.imwrite(path+cert[:-4]+\"_3\"+cert[-4:], right_top)\n",
    "    cv2.imwrite(path+cert[:-4]+\"_4\"+cert[-4:], rigth_bottom)"
   ]
  },
  {
   "cell_type": "code",
   "execution_count": 77,
   "metadata": {},
   "outputs": [],
   "source": [
    "two_format = []\n",
    "four_format = []"
   ]
  },
  {
   "cell_type": "code",
   "execution_count": 80,
   "metadata": {},
   "outputs": [],
   "source": [
    "for cert in certificates:\n",
    "    if int(cert[16:20])<1237:\n",
    "        split_in_two(\"G:\\\\My Drive\\\\Suriname\\\\sample_split_2\\\\\",cert)\n",
    "        two_format.append(cert)\n",
    "    elif int(cert[16:20])>=1237:\n",
    "        split_in_four(\"G:\\\\My Drive\\\\Suriname\\\\sample_split_2\\\\\",cert)\n",
    "        four_format.append(cert)\n",
    "    else:\n",
    "        print(\"error on\", cert)"
   ]
  },
  {
   "cell_type": "code",
   "execution_count": 44,
   "metadata": {},
   "outputs": [
    {
     "name": "stdout",
     "output_type": "stream",
     "text": [
      "1090\n"
     ]
    }
   ],
   "source": [
    "path = r\"G:\\\\My Drive\\\\Suriname\\\\sample_split\"\n",
    "# change the working directory to the path where the images are located\n",
    "os.chdir(path)\n",
    "\n",
    "# this list holds all the image filename\n",
    "certificates = []\n",
    "\n",
    "# creates a ScandirIterator aliased as files\n",
    "with os.scandir(os.path.join(path)) as files:\n",
    "# loops through each file in the directories\n",
    "    for file in files:\n",
    "        if file.name.endswith('.JPG') or file.name.endswith('.jpg'):\n",
    "            certificates.append(file.name)\n",
    "print(len(certificates))"
   ]
  },
  {
   "cell_type": "code",
   "execution_count": 48,
   "metadata": {},
   "outputs": [
    {
     "name": "stdout",
     "output_type": "stream",
     "text": [
      "461\n",
      "629\n"
     ]
    }
   ],
   "source": [
    "print(len(four_format))\n",
    "print(len(two_format))"
   ]
  },
  {
   "cell_type": "code",
   "execution_count": null,
   "metadata": {},
   "outputs": [],
   "source": [
    "random.seed(123)\n",
    "four_sample = random.sample(four_format,250-131)\n",
    "print(four_sample)\n",
    "two_sample = random.sample(two_format,250-75)\n",
    "print(two_sample)"
   ]
  },
  {
   "cell_type": "code",
   "execution_count": null,
   "metadata": {},
   "outputs": [],
   "source": [
    "for cert in sample:\n",
    "    shutil.copyfile(os.path.join(path,cert), os.path.join(\"G:\\\\My Drive\\\\Suriname\\\\sample2\",cert.split(\"/\")[1]))"
   ]
  },
  {
   "cell_type": "code",
   "execution_count": 55,
   "metadata": {},
   "outputs": [],
   "source": [
    "path = r\"G:\\\\My Drive\\\\Suriname\\\\sample_split\"\n",
    "path_2 = r\"G:\\\\My Drive\\\\Suriname\\\\sample_move\"\n",
    "for cert in two_sample:\n",
    "    shutil.move(os.path.join(path,cert),os.path.join(path_2,cert))"
   ]
  }
 ],
 "metadata": {
  "kernelspec": {
   "display_name": ".venv",
   "language": "python",
   "name": "python3"
  },
  "language_info": {
   "codemirror_mode": {
    "name": "ipython",
    "version": 3
   },
   "file_extension": ".py",
   "mimetype": "text/x-python",
   "name": "python",
   "nbconvert_exporter": "python",
   "pygments_lexer": "ipython3",
   "version": "3.11.7"
  }
 },
 "nbformat": 4,
 "nbformat_minor": 2
}
