{
 "cells": [
  {
   "cell_type": "markdown",
   "metadata": {},
   "source": [
    "## P2PaLA region correction\n",
    "Determine which pages have regions that fall outside our baseline\n"
   ]
  },
  {
   "cell_type": "code",
   "execution_count": 1,
   "metadata": {},
   "outputs": [],
   "source": [
    "from XML_utils import *\n",
    "from shapely.geometry import Polygon"
   ]
  },
  {
   "cell_type": "code",
   "execution_count": 2,
   "metadata": {},
   "outputs": [
    {
     "name": "stdout",
     "output_type": "stream",
     "text": [
      "Nr of baseline swaps: 1313\n"
     ]
    }
   ],
   "source": [
    "data_dir = r\"C:\\Users\\LHoek\\Documents\\Overlijdensdata\\Transkribus\\OR_1879-1884\\OR_1879-1884\\page\"\n",
    "texts, metadata, corrected_texts, infos, textregions = read_files(data_dir)"
   ]
  },
  {
   "cell_type": "code",
   "execution_count": 3,
   "metadata": {},
   "outputs": [
    {
     "name": "stdout",
     "output_type": "stream",
     "text": [
      "['O.R. 1879 Buiten 2e distr. 001', 'O.R. 1879 Buiten 2e distr. 002', 'O.R. 1879 Buiten 2e distr. 003', 'O.R. 1879 Buiten 2e distr. 004', 'O.R. 1879 Buiten 2e distr. 005', 'O.R. 1879 Buiten 2e distr. 006', 'O.R. 1879 Buiten 2e distr. 007', 'O.R. 1879 Buiten 2e distr. 008', 'O.R. 1879 Buiten 2e distr. 009', 'O.R. 1879 Buiten 2e distr. 010', 'O.R. 1879 Buiten 2e distr. 011', 'O.R. 1879 Buiten 2e distr. 012', 'O.R. 1879 Buiten 2e distr. 013', 'O.R. 1879 Buiten 2e distr. 014', 'O.R. 1879 Buiten 2e distr. 015', 'O.R. 1879 Buiten 2e distr. 016', 'O.R. 1879 Buiten 2e distr. 017', 'O.R. 1879 Buiten 2e distr. 018', 'O.R. 1879 Buiten 2e distr. 019', 'O.R. 1879 Buiten 2e distr. 020']\n"
     ]
    }
   ],
   "source": [
    "certificate_keys = []\n",
    "for certificate in textregions.keys():\n",
    "    certificate_keys.append(certificate)\n",
    "print(certificate_keys[0:20])"
   ]
  },
  {
   "cell_type": "code",
   "execution_count": 5,
   "metadata": {},
   "outputs": [
    {
     "name": "stdout",
     "output_type": "stream",
     "text": [
      "2989\n",
      "119\n",
      "0.03981264637002342\n"
     ]
    }
   ],
   "source": [
    "regios = []\n",
    "baseline = Polygon([(650,-125), (650,-1000), (1400,-1000), (1400,-125)]) # general baseline\n",
    "#baseline = Polygon([(650,-250), (650,-1000), (1350,-1000), (1350,-250)]) # twoLate strict \n",
    "#baseline = Polygon([(650,-250), (650,-920), (1310,-920), (1310,-250)]) # twoLate not strict \n",
    "#baseline = Polygon([(650,-165), (650,-920), (1310,-920), (1310,-165)]) # twoLate improved\n",
    "wrong_pages = []\n",
    "\n",
    "for cert_id, cert in enumerate(certificate_keys):\n",
    "    t_regions = textregions[cert]\n",
    "    for id, regio in enumerate(t_regions):\n",
    "        poly = []\n",
    "        coords = regio.split(\" \")\n",
    "        for coord in coords:\n",
    "            x = coord.split(\",\")[0]\n",
    "            y = str(int(coord.split(\",\")[1])*-1)\n",
    "            poly.append((x,y))\n",
    "        if baseline.intersects(Polygon(poly)) and not baseline.covers(Polygon(poly)) and not baseline.within(Polygon(poly)) or baseline.contains(Polygon(poly)):\n",
    "            #print(\"p\"+str(cert_id+1),cert+\":\",id)\n",
    "            if ((cert_id+1)) not in wrong_pages:\n",
    "                wrong_pages.append(cert_id+1)\n",
    "\n",
    "print(len(certificate_keys))\n",
    "#print(wrong_pages)\n",
    "print(len(wrong_pages))\n",
    "print(len(wrong_pages)/len(certificate_keys))\n"
   ]
  },
  {
   "cell_type": "code",
   "execution_count": 6,
   "metadata": {},
   "outputs": [
    {
     "data": {
      "text/plain": [
       "(array([1., 1., 1., ..., 1., 0., 1.]),\n",
       " array([1.000000e+00, 1.857000e+00, 2.714000e+00, ..., 2.570286e+03,\n",
       "        2.571143e+03, 2.572000e+03]),\n",
       " <BarContainer object of 3000 artists>)"
      ]
     },
     "execution_count": 6,
     "metadata": {},
     "output_type": "execute_result"
    },
    {
     "data": {
      "image/png": "[encoded data removed]",
      "text/plain": [
       "<Figure size 640x480 with 1 Axes>"
      ]
     },
     "metadata": {},
     "output_type": "display_data"
    }
   ],
   "source": [
    "import matplotlib.pyplot as plt\n",
    "plt.hist(wrong_pages, bins=3000)"
   ]
  },
  {
   "cell_type": "markdown",
   "metadata": {},
   "source": [
    "Wrong pages 1879-1884\n",
    "\n",
    "8, 58, 114, 130, 144, 213, 446, 472, 488, 490, 492, 494, 498, 503, 519, 521, 523, 525, 535, 537, 539, 541, 546, 547, 549, 550, 552, 553, 583, 584, 585, 612, 659, 660, 678, 710, 712, 825, 831, 863, 982, 991, 1046, 1055, 1062, 1064, 1065, 1069 1079, 1134, 1148, 1232, 1236, 1237, 1238, 1255, 1260, 1261, 1277, 1283, 1292, 1296, 1307, 1309, 1310, 1311, 1312, 1313, 1328, 1338, 1348, 1356, 1366, 1374, 1382, 1418, 1425, 1444, 1449, 1451, 1454, 1457, 1458, 1462, 1463, 1466, 1467, 1472, 1475, 1476, 1483, 1487, 1549, 1645, 1651, 1653, 1672, 1700, 1740, 1776, 1778, 1897, 2023, 2057, 2100, 2104, 2116, 2117, 2123, 2132, 2139, 2147, 2151, 2156, 2171, 2181, 2184, 2200, 2213, 2226, 2229, 2233, 2245, 2300, 2356, 2376, 2392, 2396, 2462, 2468, 2475, 2479, 2535, 2663, 2785, 2821\n"
   ]
  },
  {
   "cell_type": "markdown",
   "metadata": {},
   "source": [
    "Wrong pages 1885-1889\n",
    "\n",
    "1887 should be handled manually\n",
    "\n",
    "1885-1886:\n",
    "10, 25, 28, 32, 37, 73, 92, 97, 129, 137, 185, 205, 245, 434, 504, 763, 766, 772, 842, 905, 996, 1127, \n",
    "\n",
    "1887:\n",
    "1143, 1144, 1145, 1146, 1160, 1161, 1164, 1165, 1185, 1188, 1195, 1225, 1227, 1252, 1254, 1256, \n",
    "1269, 1275, 1363, 1365, 1366, 1368, 1377, 1378, 1381, 1385, 1386, 1392, 1393, 1397, 1401, 1405, 1406, \n",
    "1407, 1409, 1410, 1411, 1412, 1413, 1414, 1415, 1416, 1417, 1418, 1421, 1427, 1480, 1487, 1488, 1495, \n",
    "1496, 1499, 1500, 1501, 1502, 1504, 1505, 1506, 1507, 1508, 1510, 1511, 1512, 1513, 1515, 1516, 1517, \n",
    "1519, 1520, 1523, 1524, 1525, 1526, 1527, 1528, 1529, 1530, 1531, 1533, 1535, 1536, 1537, 1538, 1540, \n",
    "1542, 1545, 1546, 1548, 1549, 1550, 1551, 1553, 1556, 1557, 1561, 1579, 1587, 1588, 1621, 1639, 1643, \n",
    "\n",
    "1888-1889:\n",
    "1798, 1802, 1909, 2189, 2193, 2194, 2197, 2288, 2298, 2347\n"
   ]
  },
  {
   "cell_type": "markdown",
   "metadata": {},
   "source": [
    "Wrong pages 1890-1894\n",
    "\n",
    "[97, 664, 672, 732, 896, 1075, 1124, 1173, 1179, 1296, 1299, 1312, 1318, 1323, 1371, 1451, 1604, 1757, 1773, 1797, 1815, 1911, 1935, 1999, 2111, 2353, 2361]\n"
   ]
  },
  {
   "cell_type": "markdown",
   "metadata": {},
   "source": [
    "Wrong pages 1895+1905-1907\n",
    "\n",
    "[136, 163, 246, 307, 496, 568, 584, 689, 690, 737, 1407, 1619, 1786, 1830, 2165, 2175, 2176, 2230, 2238, 2248, 2379, 2380, 2383, 2391, 2495, 2502, 2514, 2551, 2559, 2595, 2707]\n",
    "\n",
    "\n"
   ]
  },
  {
   "cell_type": "markdown",
   "metadata": {},
   "source": [
    "Wrong pages 1908-1909+1930\n",
    "\n",
    "[130, 133, 161, 441, 443, 552, 553, 589, 1139, 1418, 1432, 1436, 1440, 1454, 1457, 1467, 1471, 1472, 1478, 1668, 1670, 1690, 1712, 1752, 1806, 1826, 1850, 1872, 1880, 1886, 1890, 1918, 1997, 2057]\n"
   ]
  },
  {
   "cell_type": "markdown",
   "metadata": {},
   "source": [
    "Wrong pages 1931-1934\n",
    "\n",
    "[531, 633, 657, 673, 676, 685, 689, 713, 721, 724, 736, 740, 741, 749, 751, 752, 753, 755, 757, 759, 760, 761, 763, 769, 771, 776, 777, 785, 787, 811, 835, 837, 855, 1725, 2002, 2030, 2034, 2046, 2054, 2062, 2066, 2070, 2082, 2083, 2084, 2088, 2094, 2098, 2100, 2108, 2110, 2112, 2118, 2122, 2123, 2126, 2148, 2150, 2156, 2158, 2159, 2160, 2161, 2164, 2166, 2172, 2176, 2188, 2196, 2199, 2200, 2204, 2210, 2212, 2222, 2282, 2678, 2783, 2855, 2903]\n"
   ]
  },
  {
   "cell_type": "markdown",
   "metadata": {},
   "source": [
    "Wrong pages 1935-1937\n",
    "\n",
    "[357, 481, 509, 575, 963, 975, 1042, 1062, 1203, 1211, 1215, 1276, 1283, 1315, 1319, 1320, 1322, 1359, 1363, 1447, 1474, 1481, 1492, 1496, 1513, 1552, 1567, 1579, 1796, 1979, 1988, 2014, 2177, 2225, 2292, 2293]\n",
    "\n"
   ]
  },
  {
   "cell_type": "markdown",
   "metadata": {},
   "source": [
    "Wrong pages 1938-1939+1945-1946 Stad\n",
    "\n",
    "41, 49, 61, 118, 187, 369, 462, 554, 558, 598, 632, 643, 731, 766, 781, 791, 835, 894, 912, 975, 990, 1006, 1010, 1025, 1099, 1134, 1143, 1148, 1195, 1196, 1197, 1217, 1242, 1253, 1274, 1286, 1310, 1392, 1399, 1400, 1439, 1442, 1443, 1447, 1453, 1458, 1503, 1513, 1514, 1530, 1532, 1534, 1536, 1539, 1544, 1546, 1550, 1552, 1554, 1556, 1558, 1560, 1562, 1570, 1574, 1576, 1577, 1578, 1580, 1582, 1584, 1586, 1588, 1592, 1594, 1596, 1599, 1600, 1604, 1606, 1612, 1624, 1626, 1628, 1632, 1633, 1634, 1636, 1638, 1640, 1644, 1648, 1665, 1707, 1713, 1721, 1753, 1823, 1847, 1883, 1961, 2031, 2039, 2047, 2051, 2055, 2063, 2071, 2075, 2079, 2083, 2091, 2095, 2099, 2103, 2107, 2111, 2115, 2119, 2123, 2127, 2131, 2135, 2147, 2151, 2159, 2165, 2171, 2179, 2185, 2187, 2342, 2378, 2418, 2520, 2566, 2570, 2574, 2578, 2606, 2612, 2618, 2630, 2634, 2638, 2646, 2650, 2652, 2658, 2662, 2666, 2672, 2674, 2686, 2690, 2698, 2702, 2710, 2722, 2730, 2872\n",
    "\n"
   ]
  },
  {
   "cell_type": "markdown",
   "metadata": {},
   "source": [
    "Wrong pages 1946 Buiten 1947-1949\n",
    "\n",
    "140, 303, 564, 591, 631, 675, 731, 775, 807, 865, 1008, 1010, 1012, 1053, 1054, 1058, 1061, 1065, 1067, 1070, 1072, 1075, 1076, 1078, 1079, 1083, 1092, 1097, 1098, 1099, 1103, 1108, 1124, 1170, 1171, 1182, 1195, 1207, 1231, 1247, 1274, 1374, 1393, 1421, 1523, 1578, 1593, 1599, 1625, 1629, 1689, 1749, 1755, 1762, 1852, 1856, 1857, 1909, 1910, 1939, 1943, 1947, 1948, 1959, 1963, 1971, 1972, 1979, 1983, 1987, 1991, 1995, 1999, 2003, 2006, 2011, 2015, 2019, 2023, 2027, 2031, 2032, 2035, 2039, 2040, 2059, 2063, 2083, 2087, 2095, 2103, 2111, 2115, 2127, 2131, 2136, 2143, 2151, 2155, 2175, 2179, 2183, 2187, 2188, 2191, 2199, 2200, 2223, 2235, 2250, 2262, 2271, 2278, 2282, 2294, 2298, 2306, 2310, 2314, 2334, 2338, 2347, 2350, 2354, 2358, 2362, 2370, 2382, 2394, 2398, 2400, 2406, 2410, 2414, 2418, 2430, 2438, 2446, 2482, 2490, 2509, 2537, 2561, 2562, 2564, 2565, 2566, 2567, 2568, 2569, 2570, 2571, 2572\n",
    "\n"
   ]
  }
 ],
 "metadata": {
  "kernelspec": {
   "display_name": "Python 3",
   "language": "python",
   "name": "python3"
  },
  "language_info": {
   "codemirror_mode": {
    "name": "ipython",
    "version": 3
   },
   "file_extension": ".py",
   "mimetype": "text/x-python",
   "name": "python",
   "nbconvert_exporter": "python",
   "pygments_lexer": "ipython3",
   "version": "3.11.9"
  }
 },
 "nbformat": 4,
 "nbformat_minor": 2
}
